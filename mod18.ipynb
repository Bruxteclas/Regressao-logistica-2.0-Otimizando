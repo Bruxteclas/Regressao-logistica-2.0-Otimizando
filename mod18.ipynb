{
 "cells": [
  {
   "cell_type": "markdown",
   "metadata": {},
   "source": [
    "# Regressão Logística I\n",
    "## Tarefa II\n",
    "\n",
    "Vamos trabalhar com a mesma base do exercício anterior, mas vamos aprofundar um pouco mais a nossa regressão."
   ]
  },
  {
   "cell_type": "code",
   "execution_count": 19,
   "metadata": {
    "tags": []
   },
   "outputs": [],
   "source": [
    "import pandas as pd\n",
    "import seaborn as sns\n",
    "import matplotlib.pyplot as plt\n",
    "import numpy as np\n",
    "\n",
    "import statsmodels.formula.api as smf"
   ]
  },
  {
   "cell_type": "code",
   "execution_count": 20,
   "metadata": {
    "tags": []
   },
   "outputs": [
    {
     "data": {
      "text/html": [
       "<div>\n",
       "<style scoped>\n",
       "    .dataframe tbody tr th:only-of-type {\n",
       "        vertical-align: middle;\n",
       "    }\n",
       "\n",
       "    .dataframe tbody tr th {\n",
       "        vertical-align: top;\n",
       "    }\n",
       "\n",
       "    .dataframe thead th {\n",
       "        text-align: right;\n",
       "    }\n",
       "</style>\n",
       "<table border=\"1\" class=\"dataframe\">\n",
       "  <thead>\n",
       "    <tr style=\"text-align: right;\">\n",
       "      <th></th>\n",
       "      <th>age</th>\n",
       "      <th>sex</th>\n",
       "      <th>cp</th>\n",
       "      <th>trestbps</th>\n",
       "      <th>chol</th>\n",
       "      <th>fbs</th>\n",
       "      <th>restecg</th>\n",
       "      <th>thalach</th>\n",
       "      <th>exang</th>\n",
       "      <th>oldpeak</th>\n",
       "      <th>slope</th>\n",
       "      <th>ca</th>\n",
       "      <th>thal</th>\n",
       "      <th>num</th>\n",
       "      <th>flag_doente</th>\n",
       "    </tr>\n",
       "  </thead>\n",
       "  <tbody>\n",
       "    <tr>\n",
       "      <th>0</th>\n",
       "      <td>63.0</td>\n",
       "      <td>1.0</td>\n",
       "      <td>1.0</td>\n",
       "      <td>145.0</td>\n",
       "      <td>233.0</td>\n",
       "      <td>1.0</td>\n",
       "      <td>2.0</td>\n",
       "      <td>150.0</td>\n",
       "      <td>0.0</td>\n",
       "      <td>2.3</td>\n",
       "      <td>3.0</td>\n",
       "      <td>0.0</td>\n",
       "      <td>6.0</td>\n",
       "      <td>0</td>\n",
       "      <td>0</td>\n",
       "    </tr>\n",
       "    <tr>\n",
       "      <th>1</th>\n",
       "      <td>67.0</td>\n",
       "      <td>1.0</td>\n",
       "      <td>4.0</td>\n",
       "      <td>160.0</td>\n",
       "      <td>286.0</td>\n",
       "      <td>0.0</td>\n",
       "      <td>2.0</td>\n",
       "      <td>108.0</td>\n",
       "      <td>1.0</td>\n",
       "      <td>1.5</td>\n",
       "      <td>2.0</td>\n",
       "      <td>3.0</td>\n",
       "      <td>3.0</td>\n",
       "      <td>2</td>\n",
       "      <td>1</td>\n",
       "    </tr>\n",
       "    <tr>\n",
       "      <th>2</th>\n",
       "      <td>67.0</td>\n",
       "      <td>1.0</td>\n",
       "      <td>4.0</td>\n",
       "      <td>120.0</td>\n",
       "      <td>229.0</td>\n",
       "      <td>0.0</td>\n",
       "      <td>2.0</td>\n",
       "      <td>129.0</td>\n",
       "      <td>1.0</td>\n",
       "      <td>2.6</td>\n",
       "      <td>2.0</td>\n",
       "      <td>2.0</td>\n",
       "      <td>7.0</td>\n",
       "      <td>1</td>\n",
       "      <td>1</td>\n",
       "    </tr>\n",
       "    <tr>\n",
       "      <th>3</th>\n",
       "      <td>37.0</td>\n",
       "      <td>1.0</td>\n",
       "      <td>3.0</td>\n",
       "      <td>130.0</td>\n",
       "      <td>250.0</td>\n",
       "      <td>0.0</td>\n",
       "      <td>0.0</td>\n",
       "      <td>187.0</td>\n",
       "      <td>0.0</td>\n",
       "      <td>3.5</td>\n",
       "      <td>3.0</td>\n",
       "      <td>0.0</td>\n",
       "      <td>3.0</td>\n",
       "      <td>0</td>\n",
       "      <td>0</td>\n",
       "    </tr>\n",
       "    <tr>\n",
       "      <th>4</th>\n",
       "      <td>41.0</td>\n",
       "      <td>0.0</td>\n",
       "      <td>2.0</td>\n",
       "      <td>130.0</td>\n",
       "      <td>204.0</td>\n",
       "      <td>0.0</td>\n",
       "      <td>2.0</td>\n",
       "      <td>172.0</td>\n",
       "      <td>0.0</td>\n",
       "      <td>1.4</td>\n",
       "      <td>1.0</td>\n",
       "      <td>0.0</td>\n",
       "      <td>3.0</td>\n",
       "      <td>0</td>\n",
       "      <td>0</td>\n",
       "    </tr>\n",
       "  </tbody>\n",
       "</table>\n",
       "</div>"
      ],
      "text/plain": [
       "    age  sex   cp  trestbps   chol  fbs  restecg  thalach  exang  oldpeak  \\\n",
       "0  63.0  1.0  1.0     145.0  233.0  1.0      2.0    150.0    0.0      2.3   \n",
       "1  67.0  1.0  4.0     160.0  286.0  0.0      2.0    108.0    1.0      1.5   \n",
       "2  67.0  1.0  4.0     120.0  229.0  0.0      2.0    129.0    1.0      2.6   \n",
       "3  37.0  1.0  3.0     130.0  250.0  0.0      0.0    187.0    0.0      3.5   \n",
       "4  41.0  0.0  2.0     130.0  204.0  0.0      2.0    172.0    0.0      1.4   \n",
       "\n",
       "   slope   ca thal  num  flag_doente  \n",
       "0    3.0  0.0  6.0    0            0  \n",
       "1    2.0  3.0  3.0    2            1  \n",
       "2    2.0  2.0  7.0    1            1  \n",
       "3    3.0  0.0  3.0    0            0  \n",
       "4    1.0  0.0  3.0    0            0  "
      ]
     },
     "execution_count": 20,
     "metadata": {},
     "output_type": "execute_result"
    }
   ],
   "source": [
    "url = 'https://archive.ics.uci.edu/ml/machine-learning-databases/heart-disease/processed.cleveland.data'\n",
    "\n",
    "df = pd.read_csv(url, \n",
    "                 names=['age', 'sex', 'cp', 'trestbps', 'chol', 'fbs', 'restecg',\n",
    "                        'thalach', 'exang', 'oldpeak', 'slope', 'ca', 'thal', 'num'])\n",
    "df['flag_doente'] = (df['num']!=0).astype('int64')\n",
    "df.head()"
   ]
  },
  {
   "cell_type": "markdown",
   "metadata": {},
   "source": [
    "A descrição das variáveis está recortada abaixo:\n",
    "- age: idade do paciente em anos\n",
    "- sex: sexo (1 = male; 0 = female)  \n",
    "- cp: tipo de dor no peito\n",
    "  - 1: angina típica\n",
    "  - 2: angina atípica\n",
    "  - 3: dor não-angina\n",
    "  - 4: assintomático\n",
    "- trestbps: pressão sanguínea em repouso (em mm Hg na admissão ao hospital\n",
    "- chol: colesterol sérico em mg/dl\n",
    "- fbs: (açúcar no sangue em jejum > 120 mg/dl) (1 = True; 0 = False)\n",
    "- restecg: resultados eletrocardiográficos em repouso\n",
    "  - 0: normal\n",
    "  - 1: tendo anormalidade da onda ST-T (Inversões de onda T e / ou ST com elevação ou depressão de > 0.05 mV)\n",
    "  - 2: mostrando hipertrofia ventricular esquerda provável ou definitiva pelos critérios de Estes\n",
    "- thalach: frequência cardíaca máxima alcançada\n",
    "- exang: angina induzida por exercício(1 = sim; 0 = não)\n",
    "- oldpeak = Depressão de ST induzida por exercício em relação ao repouso\n",
    "- slope: Depressão de ST induzida por exercício em relação ao repouso\n",
    "  - 1: inclinação ascendente\n",
    "  - 2: estável\n",
    "  - 3: inclinação descendente\n",
    "- ca: número de vasos principais (0-3) coloridos por fluorosopia\n",
    "- thal: 3 = normal; 6 = defeito corrigido; 7 = defeito reversível\n",
    "- num: diagnóstico de doença cardíaga (status de doença angiográfica)"
   ]
  },
  {
   "cell_type": "code",
   "execution_count": 11,
   "metadata": {
    "tags": []
   },
   "outputs": [
    {
     "name": "stdout",
     "output_type": "stream",
     "text": [
      "<class 'pandas.core.frame.DataFrame'>\n",
      "RangeIndex: 303 entries, 0 to 302\n",
      "Data columns (total 15 columns):\n",
      " #   Column       Non-Null Count  Dtype  \n",
      "---  ------       --------------  -----  \n",
      " 0   age          303 non-null    float64\n",
      " 1   sex          303 non-null    float64\n",
      " 2   cp           303 non-null    float64\n",
      " 3   trestbps     303 non-null    float64\n",
      " 4   chol         303 non-null    float64\n",
      " 5   fbs          303 non-null    float64\n",
      " 6   restecg      303 non-null    float64\n",
      " 7   thalach      303 non-null    float64\n",
      " 8   exang        303 non-null    float64\n",
      " 9   oldpeak      303 non-null    float64\n",
      " 10  slope        303 non-null    float64\n",
      " 11  ca           303 non-null    object \n",
      " 12  thal         303 non-null    object \n",
      " 13  num          303 non-null    int64  \n",
      " 14  flag_doente  303 non-null    int64  \n",
      "dtypes: float64(11), int64(2), object(2)\n",
      "memory usage: 35.6+ KB\n"
     ]
    }
   ],
   "source": [
    "df.info()"
   ]
  },
  {
   "cell_type": "code",
   "execution_count": 4,
   "metadata": {
    "tags": []
   },
   "outputs": [
    {
     "name": "stdout",
     "output_type": "stream",
     "text": [
      "ca\n",
      "0.0    176\n",
      "1.0     65\n",
      "2.0     38\n",
      "3.0     20\n",
      "?        4\n",
      "Name: count, dtype: int64\n",
      "thal\n",
      "3.0    166\n",
      "7.0    117\n",
      "6.0     18\n",
      "?        2\n",
      "Name: count, dtype: int64\n"
     ]
    }
   ],
   "source": [
    "print(df['ca'].value_counts())\n",
    "print(df['thal'].value_counts())\n"
   ]
  },
  {
   "cell_type": "code",
   "execution_count": 22,
   "metadata": {
    "tags": []
   },
   "outputs": [
    {
     "name": "stdout",
     "output_type": "stream",
     "text": [
      "Optimization terminated successfully.\n",
      "         Current function value: 0.344919\n",
      "         Iterations 7\n",
      "                           Logit Regression Results                           \n",
      "==============================================================================\n",
      "Dep. Variable:            flag_doente   No. Observations:                  303\n",
      "Model:                          Logit   Df Residuals:                      289\n",
      "Method:                           MLE   Df Model:                           13\n",
      "Date:                Wed, 27 Dec 2023   Pseudo R-squ.:                  0.4999\n",
      "Time:                        18:38:42   Log-Likelihood:                -104.51\n",
      "converged:                       True   LL-Null:                       -208.99\n",
      "Covariance Type:            nonrobust   LLR p-value:                 1.965e-37\n",
      "==============================================================================\n",
      "                 coef    std err          z      P>|z|      [0.025      0.975]\n",
      "------------------------------------------------------------------------------\n",
      "const         -7.5511      2.857     -2.643      0.008     -13.151      -1.951\n",
      "age           -0.0145      0.024     -0.607      0.544      -0.061       0.032\n",
      "sex            1.3711      0.488      2.807      0.005       0.414       2.328\n",
      "cp             0.6118      0.191      3.210      0.001       0.238       0.985\n",
      "trestbps       0.0238      0.011      2.226      0.026       0.003       0.045\n",
      "chol           0.0050      0.004      1.335      0.182      -0.002       0.012\n",
      "fbs           -0.7775      0.530     -1.468      0.142      -1.816       0.261\n",
      "restecg        0.2350      0.183      1.287      0.198      -0.123       0.593\n",
      "thalach       -0.0200      0.010     -1.972      0.049      -0.040      -0.000\n",
      "exang          1.0322      0.409      2.521      0.012       0.230       1.835\n",
      "oldpeak        0.2440      0.210      1.161      0.246      -0.168       0.656\n",
      "slope          0.5912      0.360      1.644      0.100      -0.114       1.296\n",
      "ca             1.2371      0.263      4.708      0.000       0.722       1.752\n",
      "thal           0.3244      0.099      3.291      0.001       0.131       0.518\n",
      "==============================================================================\n"
     ]
    }
   ],
   "source": [
    "import numpy as np\n",
    "import pandas as pd\n",
    "import statsmodels.api as sm\n",
    "\n",
    "# Substituir '?' por NaN\n",
    "df['ca'] = df['ca'].replace('?', np.nan)\n",
    "df['thal'] = df['thal'].replace('?', np.nan)\n",
    "\n",
    "# Converter para tipo numérico\n",
    "df['ca'] = pd.to_numeric(df['ca'])\n",
    "df['thal'] = pd.to_numeric(df['thal'])\n",
    "\n",
    "# Preencher NaNs com a mediana\n",
    "df['ca'].fillna(df['ca'].median(), inplace=True)\n",
    "df['thal'].fillna(df['thal'].median(), inplace=True)\n",
    "\n",
    "# Ajustar o modelo de regressão logística\n",
    "# Selecionar variáveis independentes\n",
    "X = df[['age', 'sex', 'cp', 'trestbps', 'chol', 'fbs', 'restecg', 'thalach', 'exang', 'oldpeak', 'slope', 'ca', 'thal']]\n",
    "\n",
    "# Adicionar constante para o termo de interceptação\n",
    "X = sm.add_constant(X)\n",
    "\n",
    "# Variável de resposta\n",
    "y = df['flag_doente']\n",
    "\n",
    "# Ajustar o modelo\n",
    "model = sm.Logit(y, X)\n",
    "result = model.fit()\n",
    "\n",
    "# Exibir resultados\n",
    "print(result.summary())\n",
    "\n"
   ]
  },
  {
   "cell_type": "markdown",
   "metadata": {},
   "source": [
    "1. Considere o script que monta a análise bivariada que você fez na tarefa anterior. Transforme esse script em uma função, que deve:\n",
    "- Ter como parâmetros de entrada:\n",
    "    - Um *dataframe* contendo os dados a serem avaliados\n",
    "    - Um *string* contendo o nome da variável resposta\n",
    "    - Um *string* contendo o nome da variável explicativa\n",
    "- E deve retornar um *dataframe* com os dados da bivariada. \n",
    "**Monte** a mesma bivariada pelo menos três variáveis qualitativas do *data-frame*. Qual delas parece discriminar mais o risco?"
   ]
  },
  {
   "cell_type": "code",
   "execution_count": 14,
   "metadata": {
    "tags": []
   },
   "outputs": [
    {
     "name": "stdout",
     "output_type": "stream",
     "text": [
      "\n",
      "Análise Bivariada entre \"flag_doente\" e \"sex\":\n",
      "\n",
      "   Categoria  Frequência  Proporção Odds Ratio Logito (LOG(Odds))  \\\n",
      "0  Saudáveis          92   0.560976   0.683997          -0.379802   \n",
      "1    Doentes         114   0.820144   1.461996           0.379802   \n",
      "2      Total         164   0.541254          -                  -   \n",
      "\n",
      "  Weight of Evidence (WOE)  \n",
      "0                -0.321906  \n",
      "1                 0.321906  \n",
      "2                        -  \n",
      "\n",
      "Análise Bivariada entre \"flag_doente\" e \"cp\":\n",
      "\n",
      "   Categoria  Frequência  Proporção Odds Ratio Logito (LOG(Odds))  \\\n",
      "0  Saudáveis          16   0.097561   1.937282           0.661286   \n",
      "1    Doentes           7   0.050360   0.516187          -0.661286   \n",
      "2      Total         164   0.541254          -                  -   \n",
      "\n",
      "  Weight of Evidence (WOE)  \n",
      "0                  0.56048  \n",
      "1                 -0.56048  \n",
      "2                        -  \n",
      "\n",
      "Análise Bivariada entre \"flag_doente\" e \"fbs\":\n",
      "\n",
      "   Categoria  Frequência  Proporção Odds Ratio Logito (LOG(Odds))  \\\n",
      "0  Saudáveis          23   0.140244   0.886086          -0.120941   \n",
      "1    Doentes          22   0.158273   1.128558           0.120941   \n",
      "2      Total         164   0.541254          -                  -   \n",
      "\n",
      "  Weight of Evidence (WOE)  \n",
      "0                -0.102505  \n",
      "1                 0.102505  \n",
      "2                        -  \n"
     ]
    }
   ],
   "source": [
    "import pandas as pd\n",
    "import numpy as np\n",
    "\n",
    "def bivariate_analysis(df, response_variable, explanatory_variable):\n",
    "    \"\"\"\n",
    "    Realiza uma análise bivariada entre uma variável resposta e uma variável explicativa.\n",
    "\n",
    "    Parâmetros:\n",
    "    - df: DataFrame contendo os dados a serem avaliados.\n",
    "    - response_variable: Nome da variável resposta (string).\n",
    "    - explanatory_variable: Nome da variável explicativa (string).\n",
    "\n",
    "    Retorna:\n",
    "    - DataFrame com os resultados da análise bivariada.\n",
    "    \"\"\"\n",
    "    # Criação da tabela de contingência\n",
    "    contingency_table = pd.crosstab(df[response_variable], df[explanatory_variable], rownames=['Categoria'], colnames=['Frequência'])\n",
    "\n",
    "    # Cálculos adicionais\n",
    "    total_saudaveis = contingency_table.loc[0].sum()\n",
    "    total_doentes = contingency_table.loc[1].sum()\n",
    "\n",
    "    prop_saudaveis = contingency_table.loc[0, 1] / total_saudaveis  # Substitua '1' pelo código correspondente a saudáveis na variável explicativa\n",
    "    prop_doentes = contingency_table.loc[1, 1] / total_doentes  # Substitua '1' pelo código correspondente a doentes na variável explicativa\n",
    "    odds_ratio = prop_doentes / prop_saudaveis\n",
    "    logit = np.log(odds_ratio)\n",
    "    weight_of_evidence = logit * (total_doentes / total_saudaveis)\n",
    "\n",
    "    # Montagem do DataFrame de resultados\n",
    "    result_df = pd.DataFrame({\n",
    "        'Categoria': ['Saudáveis', 'Doentes', 'Total'],\n",
    "        'Frequência': [contingency_table.loc[0, 1], contingency_table.loc[1, 1], total_saudaveis],\n",
    "        'Proporção': [prop_saudaveis, prop_doentes, total_saudaveis / df.shape[0]],\n",
    "        'Odds Ratio': [1 / odds_ratio, odds_ratio, '-'],\n",
    "        'Logito (LOG(Odds))': [np.log(1 / odds_ratio), logit, '-'],\n",
    "        'Weight of Evidence (WOE)': [np.log(1 / odds_ratio) * (total_doentes / total_saudaveis), weight_of_evidence, '-']\n",
    "    })\n",
    "\n",
    "    return result_df\n",
    "\n",
    "# Exemplo de uso da função para três variáveis qualitativas\n",
    "response_variable = 'flag_doente'\n",
    "explanatory_variables = ['sex', 'cp', 'fbs']\n",
    "\n",
    "for variable in explanatory_variables:\n",
    "    result = bivariate_analysis(df, response_variable, variable)\n",
    "    print(f'\\nAnálise Bivariada entre \"{response_variable}\" e \"{variable}\":\\n')\n",
    "    print(result)\n"
   ]
  },
  {
   "cell_type": "code",
   "execution_count": 15,
   "metadata": {
    "tags": []
   },
   "outputs": [
    {
     "name": "stdout",
     "output_type": "stream",
     "text": [
      "\n",
      "Resumo da Análise Bivariada:\n",
      "\n",
      "sex: Weight of Evidence (WOE) = 0.3219056638988761\n",
      "fbs: Weight of Evidence (WOE) = 0.1025046449088506\n",
      "cp: Weight of Evidence (WOE) = -0.5604802738429489\n",
      "\n",
      "A variável que parece discriminar mais o risco é 'sex' com WOE = 0.3219056638988761.\n",
      "\n"
     ]
    }
   ],
   "source": [
    "def analyze_qualitative_variables(df, response_variable, qualitative_variables):\n",
    "    results = []\n",
    "\n",
    "    for variable in qualitative_variables:\n",
    "        result = bivariate_analysis(df, response_variable, variable)\n",
    "        results.append((variable, result.loc[1, 'Weight of Evidence (WOE)']))\n",
    "\n",
    "    results.sort(key=lambda x: x[1], reverse=True)\n",
    "\n",
    "    print(\"\\nResumo da Análise Bivariada:\\n\")\n",
    "    for variable, woe in results:\n",
    "        print(f'{variable}: Weight of Evidence (WOE) = {woe}')\n",
    "\n",
    "    print(f\"\\nA variável que parece discriminar mais o risco é '{results[0][0]}' com WOE = {results[0][1]}.\\n\")\n",
    "\n",
    "# Lista de variáveis explicativas qualitativas\n",
    "qualitative_variables = ['sex', 'cp', 'fbs']\n",
    "\n",
    "# Chamando a função\n",
    "analyze_qualitative_variables(df, response_variable, qualitative_variables)\n"
   ]
  },
  {
   "cell_type": "markdown",
   "metadata": {},
   "source": [
    "Nossa análise bivariada explorou a relação entre as variáveis qualitativas e a presença de doença cardíaca na nossa base de dados. Utilizamos o Weight of Evidence (WOE) como uma métrica informativa para avaliar a capacidade discriminativa de cada variável.\n",
    "\n",
    "Os resultados indicam que a variável \"sex\" (sexo) possui o maior Weight of Evidence (WOE), sugerindo uma forte associação com a presença de doença cardíaca. O WOE positivo (0.32) para \"sex\" indica uma maior probabilidade de ocorrência de doença cardíaca para indivíduos do sexo masculino em comparação com o sexo feminino.\n",
    "\n",
    "Por outro lado, as variáveis \"fbs\" (açúcar no sangue em jejum) e \"cp\" (tipo de dor no peito) demonstraram menor poder discriminativo, com WOE de 0.10 e -0.56, respectivamente.\n",
    "\n",
    "Esses resultados sugerem que o sexo pode ser um fator significativo na predição de doença cardíaca em nossa amostra, enquanto outras variáveis qualitativas podem ter uma influência menor. Vale ressaltar que a interpretação desses resultados deve considerar a natureza observacional da análise e as características específicas do conjunto de dados em questão."
   ]
  },
  {
   "cell_type": "markdown",
   "metadata": {},
   "source": [
    "2. Monte uma função semelhante para categorizar variáveis quantitativas contínuas (com muitas categorias) como ```age```.  \n",
    "    Além dos mesmos parâmetros da função anterior, defina mais um parâmetro como número de categorias que você deseja quebrar. Defina um valor '*default*' de 5 grupos para este parâmetro.  "
   ]
  },
  {
   "cell_type": "code",
   "execution_count": 16,
   "metadata": {
    "tags": []
   },
   "outputs": [
    {
     "name": "stdout",
     "output_type": "stream",
     "text": [
      "   Categoria  Frequência  Proporção Odds Ratio     Logit  \\\n",
      "0  Saudáveis           8   0.048780   0.442446 -0.815437   \n",
      "1    Doentes           3   0.021583         --        --   \n",
      "2      Total         164   0.541254         --        --   \n",
      "\n",
      "  Peso do Índice de Probabilidade  \n",
      "0                        0.442446  \n",
      "1                              --  \n",
      "2                              --  \n"
     ]
    }
   ],
   "source": [
    "import pandas as pd\n",
    "import numpy as np\n",
    "\n",
    "def calculate_proportions(contingency_table):\n",
    "    prop_saudaveis = contingency_table.iloc[0, 0] / contingency_table.iloc[0, -1]\n",
    "    prop_doentes = contingency_table.iloc[1, 0] / contingency_table.iloc[1, -1]\n",
    "    return prop_saudaveis, prop_doentes\n",
    "\n",
    "def categorize_continuous_variable(df, response_variable, explanatory_variable, num_categories=5):\n",
    "    # Verificar se as variáveis estão no dataframe\n",
    "    if response_variable not in df.columns:\n",
    "        raise ValueError(f\"A variável resposta {response_variable} não foi encontrada na tabela.\")\n",
    "\n",
    "    if explanatory_variable not in df.columns:\n",
    "        raise ValueError(f\"A variável explicativa {explanatory_variable} não foi encontrada na tabela.\")\n",
    "\n",
    "    # Criar uma cópia do dataframe para evitar alterações indevidas\n",
    "    df_copy = df.copy()\n",
    "\n",
    "    # Criar categorias para a variável explicativa\n",
    "    df_copy[f'{explanatory_variable}_group'] = pd.cut(df_copy[explanatory_variable], bins=num_categories)\n",
    "\n",
    "    # Criar tabela de contingência\n",
    "    contingency_table = pd.crosstab(df_copy[response_variable], df_copy[f'{explanatory_variable}_group'],\n",
    "                                    rownames=['Categoria'], colnames=['Frequência'], margins=True, margins_name='Total')\n",
    "\n",
    "    # Calcular proporções\n",
    "    prop_saudaveis, prop_doentes = calculate_proportions(contingency_table)\n",
    "\n",
    "    odds_ratio = prop_doentes / prop_saudaveis\n",
    "    logit = np.log(odds_ratio)\n",
    "    weight_of_evidence = (contingency_table.iloc[1, 0] / contingency_table.iloc[0, 0]) / (\n",
    "            contingency_table.iloc[1, -1] / contingency_table.iloc[0, -1])\n",
    "\n",
    "    # Montagem do DataFrame de resultados\n",
    "    result_df = pd.DataFrame({\n",
    "        'Categoria': ['Saudáveis', 'Doentes', 'Total'],\n",
    "        'Frequência': [contingency_table.iloc[0, 0], contingency_table.iloc[1, 0], contingency_table.iloc[0, -1]],\n",
    "        'Proporção': [prop_saudaveis, prop_doentes, contingency_table.iloc[0, -1] / df_copy.shape[0]],\n",
    "        'Odds Ratio': [odds_ratio, '--', '--'],\n",
    "        'Logit': [logit, '--', '--'],\n",
    "        'Peso do Índice de Probabilidade': [weight_of_evidence, '--', '--']\n",
    "    })\n",
    "\n",
    "    return result_df\n",
    "\n",
    "result = categorize_continuous_variable(df, 'flag_doente', 'age', num_categories=5)\n",
    "print(result)\n",
    "\n"
   ]
  },
  {
   "cell_type": "code",
   "execution_count": 17,
   "metadata": {
    "tags": []
   },
   "outputs": [
    {
     "name": "stdout",
     "output_type": "stream",
     "text": [
      "  Categoria  Frequência  Proporção  Odds Ratio     Logit  \\\n",
      "0         0          63   0.286585    0.401653 -0.912166   \n",
      "1         1          64   0.256098    0.618020 -0.481235   \n",
      "2         2          71   0.195122    1.437950  0.363218   \n",
      "3         3          45   0.079268    2.904261  1.066179   \n",
      "4         4          60   0.182927    1.179856  0.165392   \n",
      "\n",
      "   Peso do Índice de Probabilidade  \n",
      "0                        -0.912166  \n",
      "1                        -0.481235  \n",
      "2                         0.363218  \n",
      "3                         1.066179  \n",
      "4                         0.165392  \n"
     ]
    }
   ],
   "source": [
    "import pandas as pd\n",
    "import numpy as np\n",
    "\n",
    "def calculate_proportions(contingency_table):\n",
    "    prop_saudaveis = contingency_table.iloc[0, :-1] / contingency_table.iloc[0, -1]\n",
    "    prop_doentes = contingency_table.iloc[1, :-1] / contingency_table.iloc[1, -1]\n",
    "    return prop_saudaveis, prop_doentes\n",
    "\n",
    "def categorize_continuous_variable(df, response_variable, explanatory_variable, num_categories=5):\n",
    "    df_copy = df.copy()\n",
    "\n",
    "    # Crie uma nova coluna para armazenar as categorias\n",
    "    df_copy[f'{explanatory_variable}_group'] = pd.qcut(df_copy[explanatory_variable], q=num_categories, labels=False, duplicates='drop')\n",
    "\n",
    "    # Adicione a coluna 'Total' para calcular proporções\n",
    "    df_copy['Total'] = 1\n",
    "\n",
    "    # Crie uma tabela de contingência\n",
    "    contingency_table = pd.crosstab(df_copy[response_variable], df_copy[f'{explanatory_variable}_group'],\n",
    "                                     margins=True, margins_name='Total',\n",
    "                                     rownames=['Categoria'], colnames=['Frequência'])\n",
    "\n",
    "    # Calcular proporções\n",
    "    prop_saudaveis, prop_doentes = calculate_proportions(contingency_table)\n",
    "\n",
    "    # Calcular Odds Ratio, Logit e Weight of Evidence\n",
    "    odds_ratio = prop_doentes / prop_saudaveis\n",
    "    logit = np.log(odds_ratio)\n",
    "    weight_of_evidence = np.log(prop_doentes / prop_saudaveis)\n",
    "\n",
    "    # Montar o DataFrame de resultados\n",
    "    result_df = pd.DataFrame({\n",
    "        'Categoria': list(map(str, contingency_table.columns[:-1])),\n",
    "        'Frequência': [contingency_table[col]['Total'] for col in contingency_table.columns[:-1]],\n",
    "        'Proporção': [prop_saudaveis[col] for col in contingency_table.columns[:-1]],\n",
    "        'Odds Ratio': [odds_ratio[col] for col in contingency_table.columns[:-1]],\n",
    "        'Logit': [logit[col] for col in contingency_table.columns[:-1]],\n",
    "        'Peso do Índice de Probabilidade': [weight_of_evidence[col] for col in contingency_table.columns[:-1]]\n",
    "    })\n",
    "\n",
    "    return result_df\n",
    "\n",
    "# Exemplo de uso\n",
    "result = categorize_continuous_variable(df, 'flag_doente', 'age', num_categories=5)\n",
    "print(result)\n"
   ]
  },
  {
   "cell_type": "markdown",
   "metadata": {},
   "source": [
    "3. Construa um modelo de regressão logística com as variáveis qualitativas: ```sex + cp +  trestbps``` e com a variável quantitativa ```age```.\n",
    "\n",
    "**Interprete os parâmetros.**"
   ]
  },
  {
   "cell_type": "code",
   "execution_count": 23,
   "metadata": {
    "tags": []
   },
   "outputs": [
    {
     "name": "stdout",
     "output_type": "stream",
     "text": [
      "Optimization terminated successfully.\n",
      "         Current function value: 0.510076\n",
      "         Iterations 6\n",
      "                           Logit Regression Results                           \n",
      "==============================================================================\n",
      "Dep. Variable:            flag_doente   No. Observations:                  303\n",
      "Model:                          Logit   Df Residuals:                      298\n",
      "Method:                           MLE   Df Model:                            4\n",
      "Date:                Wed, 27 Dec 2023   Pseudo R-squ.:                  0.2605\n",
      "Time:                        18:39:13   Log-Likelihood:                -154.55\n",
      "converged:                       True   LL-Null:                       -208.99\n",
      "Covariance Type:            nonrobust   LLR p-value:                 1.264e-22\n",
      "==============================================================================\n",
      "                 coef    std err          z      P>|z|      [0.025      0.975]\n",
      "------------------------------------------------------------------------------\n",
      "sex            1.8021      0.331      5.444      0.000       1.153       2.451\n",
      "cp             1.1403      0.169      6.739      0.000       0.809       1.472\n",
      "trestbps       0.0214      0.008      2.600      0.009       0.005       0.037\n",
      "age            0.0582      0.017      3.348      0.001       0.024       0.092\n",
      "const        -11.1167      1.608     -6.915      0.000     -14.267      -7.966\n",
      "==============================================================================\n"
     ]
    }
   ],
   "source": [
    "import statsmodels.api as sm\n",
    "\n",
    "# Selecionando as variáveis relevantes\n",
    "selected_vars = ['sex', 'cp', 'trestbps', 'age']\n",
    "\n",
    "# Adicionando uma constante ao DataFrame\n",
    "df['const'] = 1\n",
    "\n",
    "# Criando o modelo de regressão logística\n",
    "logit_model = sm.Logit(df['flag_doente'], df[selected_vars + ['const']])\n",
    "\n",
    "# Ajustando o modelo aos dados\n",
    "result = logit_model.fit()\n",
    "\n",
    "# Exibindo os resultados do modelo\n",
    "print(result.summary())\n"
   ]
  },
  {
   "cell_type": "markdown",
   "metadata": {},
   "source": [
    "4. Avalie o seu modelo quanto a **calibragem**:\n",
    "- Calcule a probabilidade de evento predita segundo o seu modelo\n",
    "- Categorize essa probabilidade em G=5 grupos\n",
    "- Calcule a probabilidade de evento predita média por grupo\n",
    "- Calcule a taxa de eventos (média da variável indicadora de eventos) por grupo\n",
    "- Compare graficamente o valor eperado versus observado para a taxa de maus por grupo"
   ]
  },
  {
   "cell_type": "code",
   "execution_count": 24,
   "metadata": {
    "tags": []
   },
   "outputs": [
    {
     "name": "stdout",
     "output_type": "stream",
     "text": [
      "        Prob_Group  Prob_Predita_Média  Taxa_Evento\n",
      "0  (0.0119, 0.146]            0.076255     0.098361\n",
      "1   (0.146, 0.349]            0.249060     0.183333\n",
      "2   (0.349, 0.575]            0.457982     0.491803\n",
      "3   (0.575, 0.772]            0.673059     0.683333\n",
      "4   (0.772, 0.928]            0.837449     0.836066\n"
     ]
    },
    {
     "data": {
      "image/png": "[encoded data removed]",
      "text/plain": [
       "<Figure size 1000x600 with 1 Axes>"
      ]
     },
     "metadata": {},
     "output_type": "display_data"
    }
   ],
   "source": [
    "# Adicione a coluna 'Prob_Predita' ao seu DataFrame com as probabilidades previstas\n",
    "df['Prob_Predita'] = result.predict(df[['sex', 'cp', 'trestbps', 'age', 'const']])\n",
    "\n",
    "# Categorize as probabilidades em 5 grupos\n",
    "df['Prob_Group'] = pd.qcut(df['Prob_Predita'], q=5)\n",
    "\n",
    "# Calcule a probabilidade de evento predita média por grupo\n",
    "grouped_probs = df.groupby('Prob_Group')['Prob_Predita'].mean()\n",
    "\n",
    "# Calcule a taxa de eventos por grupo\n",
    "grouped_event_rate = df.groupby('Prob_Group')['flag_doente'].mean()\n",
    "\n",
    "# Crie um DataFrame para visualização\n",
    "calibration_df = pd.DataFrame({\n",
    "    'Prob_Predita_Média': grouped_probs,\n",
    "    'Taxa_Evento': grouped_event_rate\n",
    "}).reset_index()\n",
    "\n",
    "# Visualize a tabela de calibração\n",
    "print(calibration_df)\n",
    "\n",
    "# Compare graficamente o valor esperado versus observado para a taxa de eventos por grupo\n",
    "plt.figure(figsize=(10, 6))\n",
    "plt.plot(calibration_df['Prob_Predita_Média'], calibration_df['Taxa_Evento'], marker='o', linestyle='-', color='blue')\n",
    "plt.plot([0, 1], [0, 1], linestyle='--', color='red')\n",
    "plt.title('Calibração do Modelo: Valor Esperado vs. Observado')\n",
    "plt.xlabel('Probabilidade de Evento Predita Média por Grupo')\n",
    "plt.ylabel('Taxa de Eventos Observada por Grupo')\n",
    "plt.show()\n"
   ]
  },
  {
   "cell_type": "code",
   "execution_count": 25,
   "metadata": {
    "tags": []
   },
   "outputs": [
    {
     "name": "stdout",
     "output_type": "stream",
     "text": [
      "        Prob_Group  Prob_Predita_Média  Taxa_Evento  Diferença_Absoluta\n",
      "0  (0.0119, 0.146]            0.076255     0.098361            0.022106\n",
      "1   (0.146, 0.349]            0.249060     0.183333            0.065727\n",
      "2   (0.349, 0.575]            0.457982     0.491803            0.033821\n",
      "3   (0.575, 0.772]            0.673059     0.683333            0.010274\n",
      "4   (0.772, 0.928]            0.837449     0.836066            0.001384\n",
      "Média da Diferença Absoluta: 0.026662508886272324\n"
     ]
    },
    {
     "data": {
      "image/png": "[encoded data removed]",
      "text/plain": [
       "<Figure size 640x480 with 1 Axes>"
      ]
     },
     "metadata": {},
     "output_type": "display_data"
    }
   ],
   "source": [
    "# Calcule a diferença absoluta entre as probabilidades preditas e observadas\n",
    "calibration_df['Diferença_Absoluta'] = abs(calibration_df['Prob_Predita_Média'] - calibration_df['Taxa_Evento'])\n",
    "\n",
    "# Calcule a média da diferença absoluta\n",
    "media_diferenca_absoluta = calibration_df['Diferença_Absoluta'].mean()\n",
    "\n",
    "# Exiba a tabela de calibração com a diferença absoluta\n",
    "print(calibration_df)\n",
    "\n",
    "# Exiba a média da diferença absoluta\n",
    "print(f'Média da Diferença Absoluta: {media_diferenca_absoluta}')\n",
    "\n",
    "# Visualize o gráfico\n",
    "fig = plt.figure()\n",
    "ax = fig.add_subplot(1, 1, 1)\n",
    "\n",
    "ax.plot(calibration_df['Prob_Predita_Média'], label='% Predito', marker='o')\n",
    "ax.plot(calibration_df['Taxa_Evento'], label='% Observado', marker='o')\n",
    "\n",
    "ticks = ax.set_xticks(range(len(calibration_df['Prob_Group'])))\n",
    "labels = ax.set_xticklabels(calibration_df['Prob_Group'])\n",
    "\n",
    "ax.legend(loc=\"lower right\")\n",
    "ax.set_ylabel('Probabilidade de evento')\n",
    "ax.set_xlabel('Grupo')\n",
    "\n",
    "plt.show()\n"
   ]
  },
  {
   "cell_type": "markdown",
   "metadata": {},
   "source": [
    "5. Avalie o seu modelo quanto a discriminação calculando acurácia, GINI e KS."
   ]
  },
  {
   "cell_type": "code",
   "execution_count": 35,
   "metadata": {
    "tags": []
   },
   "outputs": [],
   "source": [
    "modelo_logistico = LogisticRegression(solver='liblinear', max_iter=5000)\n"
   ]
  },
  {
   "cell_type": "code",
   "execution_count": 36,
   "metadata": {
    "tags": []
   },
   "outputs": [
    {
     "data": {
      "text/html": [
       "<style>#sk-container-id-3 {color: black;}#sk-container-id-3 pre{padding: 0;}#sk-container-id-3 div.sk-toggleable {background-color: white;}#sk-container-id-3 label.sk-toggleable__label {cursor: pointer;display: block;width: 100%;margin-bottom: 0;padding: 0.3em;box-sizing: border-box;text-align: center;}#sk-container-id-3 label.sk-toggleable__label-arrow:before {content: \"▸\";float: left;margin-right: 0.25em;color: #696969;}#sk-container-id-3 label.sk-toggleable__label-arrow:hover:before {color: black;}#sk-container-id-3 div.sk-estimator:hover label.sk-toggleable__label-arrow:before {color: black;}#sk-container-id-3 div.sk-toggleable__content {max-height: 0;max-width: 0;overflow: hidden;text-align: left;background-color: #f0f8ff;}#sk-container-id-3 div.sk-toggleable__content pre {margin: 0.2em;color: black;border-radius: 0.25em;background-color: #f0f8ff;}#sk-container-id-3 input.sk-toggleable__control:checked~div.sk-toggleable__content {max-height: 200px;max-width: 100%;overflow: auto;}#sk-container-id-3 input.sk-toggleable__control:checked~label.sk-toggleable__label-arrow:before {content: \"▾\";}#sk-container-id-3 div.sk-estimator input.sk-toggleable__control:checked~label.sk-toggleable__label {background-color: #d4ebff;}#sk-container-id-3 div.sk-label input.sk-toggleable__control:checked~label.sk-toggleable__label {background-color: #d4ebff;}#sk-container-id-3 input.sk-hidden--visually {border: 0;clip: rect(1px 1px 1px 1px);clip: rect(1px, 1px, 1px, 1px);height: 1px;margin: -1px;overflow: hidden;padding: 0;position: absolute;width: 1px;}#sk-container-id-3 div.sk-estimator {font-family: monospace;background-color: #f0f8ff;border: 1px dotted black;border-radius: 0.25em;box-sizing: border-box;margin-bottom: 0.5em;}#sk-container-id-3 div.sk-estimator:hover {background-color: #d4ebff;}#sk-container-id-3 div.sk-parallel-item::after {content: \"\";width: 100%;border-bottom: 1px solid gray;flex-grow: 1;}#sk-container-id-3 div.sk-label:hover label.sk-toggleable__label {background-color: #d4ebff;}#sk-container-id-3 div.sk-serial::before {content: \"\";position: absolute;border-left: 1px solid gray;box-sizing: border-box;top: 0;bottom: 0;left: 50%;z-index: 0;}#sk-container-id-3 div.sk-serial {display: flex;flex-direction: column;align-items: center;background-color: white;padding-right: 0.2em;padding-left: 0.2em;position: relative;}#sk-container-id-3 div.sk-item {position: relative;z-index: 1;}#sk-container-id-3 div.sk-parallel {display: flex;align-items: stretch;justify-content: center;background-color: white;position: relative;}#sk-container-id-3 div.sk-item::before, #sk-container-id-3 div.sk-parallel-item::before {content: \"\";position: absolute;border-left: 1px solid gray;box-sizing: border-box;top: 0;bottom: 0;left: 50%;z-index: -1;}#sk-container-id-3 div.sk-parallel-item {display: flex;flex-direction: column;z-index: 1;position: relative;background-color: white;}#sk-container-id-3 div.sk-parallel-item:first-child::after {align-self: flex-end;width: 50%;}#sk-container-id-3 div.sk-parallel-item:last-child::after {align-self: flex-start;width: 50%;}#sk-container-id-3 div.sk-parallel-item:only-child::after {width: 0;}#sk-container-id-3 div.sk-dashed-wrapped {border: 1px dashed gray;margin: 0 0.4em 0.5em 0.4em;box-sizing: border-box;padding-bottom: 0.4em;background-color: white;}#sk-container-id-3 div.sk-label label {font-family: monospace;font-weight: bold;display: inline-block;line-height: 1.2em;}#sk-container-id-3 div.sk-label-container {text-align: center;}#sk-container-id-3 div.sk-container {/* jupyter's `normalize.less` sets `[hidden] { display: none; }` but bootstrap.min.css set `[hidden] { display: none !important; }` so we also need the `!important` here to be able to override the default hidden behavior on the sphinx rendered scikit-learn.org. See: https://github.com/scikit-learn/scikit-learn/issues/21755 */display: inline-block !important;position: relative;}#sk-container-id-3 div.sk-text-repr-fallback {display: none;}</style><div id=\"sk-container-id-3\" class=\"sk-top-container\"><div class=\"sk-text-repr-fallback\"><pre>LogisticRegression(max_iter=5000)</pre><b>In a Jupyter environment, please rerun this cell to show the HTML representation or trust the notebook. <br />On GitHub, the HTML representation is unable to render, please try loading this page with nbviewer.org.</b></div><div class=\"sk-container\" hidden><div class=\"sk-item\"><div class=\"sk-estimator sk-toggleable\"><input class=\"sk-toggleable__control sk-hidden--visually\" id=\"sk-estimator-id-3\" type=\"checkbox\" checked><label for=\"sk-estimator-id-3\" class=\"sk-toggleable__label sk-toggleable__label-arrow\">LogisticRegression</label><div class=\"sk-toggleable__content\"><pre>LogisticRegression(max_iter=5000)</pre></div></div></div></div></div>"
      ],
      "text/plain": [
       "LogisticRegression(max_iter=5000)"
      ]
     },
     "execution_count": 36,
     "metadata": {},
     "output_type": "execute_result"
    }
   ],
   "source": [
    "from sklearn.preprocessing import StandardScaler\n",
    "\n",
    "scaler = StandardScaler()\n",
    "X_train_scaled = scaler.fit_transform(X_train)\n",
    "X_test_scaled = scaler.transform(X_test)\n",
    "\n",
    "modelo_logistico = LogisticRegression(solver='lbfgs', max_iter=5000)\n",
    "modelo_logistico.fit(X_train_scaled, y_train)\n"
   ]
  },
  {
   "cell_type": "code",
   "execution_count": 37,
   "metadata": {
    "tags": []
   },
   "outputs": [
    {
     "name": "stdout",
     "output_type": "stream",
     "text": [
      "Acurácia: 0.9016\n",
      "ROC-AUC: 0.9364\n",
      "Matriz de Confusão:\n",
      "[[26  3]\n",
      " [ 3 29]]\n"
     ]
    },
    {
     "data": {
      "image/png": "[encoded data removed]",
      "text/plain": [
       "<Figure size 800x600 with 1 Axes>"
      ]
     },
     "metadata": {},
     "output_type": "display_data"
    }
   ],
   "source": [
    "from sklearn.model_selection import train_test_split\n",
    "from sklearn.linear_model import LogisticRegression\n",
    "from sklearn.metrics import accuracy_score, roc_auc_score, roc_curve, auc, confusion_matrix\n",
    "import matplotlib.pyplot as plt\n",
    "\n",
    "# Dividir os dados em conjunto de treino e teste\n",
    "X_train, X_test, y_train, y_test = train_test_split(X, y, test_size=0.2, random_state=42)\n",
    "\n",
    "# Inicializar o modelo logístico\n",
    "modelo_logistico = LogisticRegression(solver='liblinear', max_iter=1000)\n",
    "\n",
    "# Treinar o modelo\n",
    "modelo_logistico.fit(X_train, y_train)\n",
    "\n",
    "# Previsões no conjunto de teste\n",
    "y_pred_proba = modelo_logistico.predict_proba(X_test)[:, 1]\n",
    "y_pred = modelo_logistico.predict(X_test)\n",
    "\n",
    "# Calcular métricas de avaliação\n",
    "acuracia = accuracy_score(y_test, y_pred)\n",
    "roc_auc = roc_auc_score(y_test, y_pred_proba)\n",
    "fpr, tpr, _ = roc_curve(y_test, y_pred_proba)\n",
    "roc_auc_curve = auc(fpr, tpr)\n",
    "conf_matrix = confusion_matrix(y_test, y_pred)\n",
    "\n",
    "# Exibir métricas\n",
    "print(f'Acurácia: {acuracia:.4f}')\n",
    "print(f'ROC-AUC: {roc_auc:.4f}')\n",
    "print(f'Matriz de Confusão:\\n{conf_matrix}')\n",
    "\n",
    "# Plotar a curva ROC\n",
    "plt.figure(figsize=(8, 6))\n",
    "plt.plot(fpr, tpr, color='darkorange', lw=2, label=f'Curva ROC (AUC = {roc_auc_curve:.2f})')\n",
    "plt.plot([0, 1], [0, 1], color='navy', lw=2, linestyle='--')\n",
    "plt.xlabel('Taxa de Falsos Positivos')\n",
    "plt.ylabel('Taxa de Verdadeiros Positivos')\n",
    "plt.title('Curva ROC')\n",
    "plt.legend(loc='lower right')\n",
    "plt.show()\n"
   ]
  },
  {
   "cell_type": "markdown",
   "metadata": {},
   "source": [
    "6. tente melhorar o modelo obtido, por exemplo inserindo ou removendo variáveis.  \n",
    "    Avalie as características do seu modelo (calibragem e acurácia)."
   ]
  },
  {
   "cell_type": "code",
   "execution_count": 38,
   "metadata": {},
   "outputs": [
    {
     "name": "stdout",
     "output_type": "stream",
     "text": [
      "Acurácia com RFE: 0.8689\n",
      "ROC-AUC com RFE: 0.9111\n",
      "Matriz de Confusão com RFE:\n",
      "[[26  3]\n",
      " [ 5 27]]\n"
     ]
    }
   ],
   "source": [
    "from sklearn.feature_selection import RFE\n",
    "from sklearn.linear_model import LogisticRegression\n",
    "\n",
    "# Inicializar o modelo de regressão logística\n",
    "modelo_logistico = LogisticRegression(max_iter=5000)\n",
    "\n",
    "# Inicializar o seletor RFE\n",
    "seletor_rfe = RFE(estimator=modelo_logistico, step=1)\n",
    "\n",
    "# Ajustar o seletor aos dados\n",
    "seletor_rfe = seletor_rfe.fit(X_train, y_train)\n",
    "\n",
    "# Obter as variáveis selecionadas\n",
    "variaveis_selecionadas_rfe = X_train.columns[seletor_rfe.support_]\n",
    "\n",
    "# Treinar o modelo com as variáveis selecionadas\n",
    "modelo_logistico_rfe = LogisticRegression(max_iter=5000)\n",
    "modelo_logistico_rfe.fit(X_train[variaveis_selecionadas_rfe], y_train)\n",
    "\n",
    "# Avaliar o modelo\n",
    "y_pred_rfe = modelo_logistico_rfe.predict(X_test[variaveis_selecionadas_rfe])\n",
    "\n",
    "# Exibir métricas\n",
    "acuracia_rfe = accuracy_score(y_test, y_pred_rfe)\n",
    "roc_auc_rfe = roc_auc_score(y_test, modelo_logistico_rfe.predict_proba(X_test[variaveis_selecionadas_rfe])[:, 1])\n",
    "conf_matrix_rfe = confusion_matrix(y_test, y_pred_rfe)\n",
    "\n",
    "print(f'Acurácia com RFE: {acuracia_rfe:.4f}')\n",
    "print(f'ROC-AUC com RFE: {roc_auc_rfe:.4f}')\n",
    "print(f'Matriz de Confusão com RFE:\\n{conf_matrix_rfe}')\n"
   ]
  },
  {
   "cell_type": "code",
   "execution_count": 39,
   "metadata": {},
   "outputs": [
    {
     "name": "stdout",
     "output_type": "stream",
     "text": [
      "Acurácia com RFE: 0.9180\n",
      "ROC-AUC com RFE: 0.9370\n",
      "Matriz de Confusão com RFE:\n",
      "[[27  2]\n",
      " [ 3 29]]\n"
     ]
    },
    {
     "data": {
      "image/png": "[encoded data removed]",
      "text/plain": [
       "<Figure size 800x600 with 1 Axes>"
      ]
     },
     "metadata": {},
     "output_type": "display_data"
    },
    {
     "name": "stdout",
     "output_type": "stream",
     "text": [
      "Variáveis Selecionadas pelo RFE: Index(['cp', 'exang', 'oldpeak', 'ca', 'thal'], dtype='object')\n"
     ]
    }
   ],
   "source": [
    "from sklearn.feature_selection import RFE\n",
    "from sklearn.linear_model import LogisticRegression\n",
    "from sklearn.metrics import accuracy_score, roc_auc_score, roc_curve, auc, confusion_matrix\n",
    "import matplotlib.pyplot as plt\n",
    "import numpy as np\n",
    "import seaborn as sns\n",
    "\n",
    "# Inicialize o modelo de regressão logística\n",
    "modelo_logistico = LogisticRegression(max_iter=5000)\n",
    "\n",
    "# Selecione as melhores variáveis usando RFE\n",
    "seletor_rfe = RFE(modelo_logistico, n_features_to_select=5)\n",
    "X_train_rfe = seletor_rfe.fit_transform(X_train_scaled, y_train)\n",
    "\n",
    "# Treine o modelo com as variáveis selecionadas pelo RFE\n",
    "modelo_logistico.fit(X_train_rfe, y_train)\n",
    "\n",
    "# Obtenha as previsões no conjunto de teste\n",
    "X_test_rfe = seletor_rfe.transform(X_test_scaled)\n",
    "y_pred_proba_rfe = modelo_logistico.predict_proba(X_test_rfe)[:, 1]\n",
    "y_pred_rfe = modelo_logistico.predict(X_test_rfe)\n",
    "\n",
    "# Métricas de desempenho\n",
    "acuracia_rfe = accuracy_score(y_test, y_pred_rfe)\n",
    "roc_auc_rfe = roc_auc_score(y_test, y_pred_proba_rfe)\n",
    "conf_matrix_rfe = confusion_matrix(y_test, y_pred_rfe)\n",
    "\n",
    "# Exibir métricas\n",
    "print(f'Acurácia com RFE: {acuracia_rfe:.4f}')\n",
    "print(f'ROC-AUC com RFE: {roc_auc_rfe:.4f}')\n",
    "print(f'Matriz de Confusão com RFE:\\n{conf_matrix_rfe}')\n",
    "\n",
    "# Plotar a curva ROC\n",
    "fpr_rfe, tpr_rfe, _ = roc_curve(y_test, y_pred_proba_rfe)\n",
    "roc_auc_curve_rfe = auc(fpr_rfe, tpr_rfe)\n",
    "\n",
    "plt.figure(figsize=(8, 6))\n",
    "plt.plot(fpr_rfe, tpr_rfe, color='darkorange', lw=2, label=f'Curva ROC (AUC = {roc_auc_curve_rfe:.2f})')\n",
    "plt.plot([0, 1], [0, 1], color='navy', lw=2, linestyle='--')\n",
    "plt.xlabel('Taxa de Falsos Positivos')\n",
    "plt.ylabel('Taxa de Verdadeiros Positivos')\n",
    "plt.title('Curva ROC com RFE')\n",
    "plt.legend(loc='lower right')\n",
    "plt.show()\n",
    "\n",
    "# Exibir as variáveis selecionadas pelo RFE\n",
    "variaveis_selecionadas_rfe = X_train.columns[seletor_rfe.support_]\n",
    "print(\"Variáveis Selecionadas pelo RFE:\", variaveis_selecionadas_rfe)\n"
   ]
  },
  {
   "cell_type": "markdown",
   "metadata": {},
   "source": [
    "Com base nos resultados obtidos, parece que a remoção de variáveis menos significativas usando a técnica Recursive Feature Elimination (RFE) contribuiu para um aumento na acurácia e na área sob a curva ROC (ROC-AUC) do seu modelo de regressão logística. Isso sugere que as variáveis selecionadas são mais relevantes para a previsão do resultado desejado.\n",
    "\n",
    "Aqui estão algumas insights:\n",
    "\n",
    "1. **Seleção de Variáveis (RFE):**\n",
    "   - A acurácia melhorou de 90,16% para 91,80%, indicando uma melhor capacidade de generalização do modelo para novos dados.\n",
    "   - A área sob a curva ROC (ROC-AUC) também aumentou, sugerindo uma melhor capacidade do modelo de distinguir entre as classes.\n",
    "\n",
    "2. **Importância das Variáveis:**\n",
    "   - As variáveis selecionadas pelo RFE são consideradas mais importantes para o modelo.\n",
    "   - Variáveis importantes podem fornecer insights valiosos sobre os fatores que influenciam a variável de resposta.\n",
    "\n",
    "3. **Gráfico ROC:**\n",
    "   - O gráfico ROC mostra um aumento na taxa de verdadeiros positivos (sensibilidade) com uma taxa de falsos positivos relativamente baixa.\n",
    "\n",
    "4. **Matriz de Confusão:**\n",
    "   - A matriz de confusão indica uma melhoria na classificação das instâncias, com menos falsos negativos e falsos positivos.\n",
    "\n",
    "5. **Regularização do Modelo:**\n",
    "   - No treinamento inicial, houve um aviso de que o otimizador não convergiu. Aumentar o número de iterações (max_iter) resolveu o problema, mas é importante monitorar a convergência."
   ]
  },
  {
   "cell_type": "code",
   "execution_count": null,
   "metadata": {},
   "outputs": [],
   "source": []
  }
 ],
 "metadata": {
  "kernelspec": {
   "display_name": "Python 3 (ipykernel)",
   "language": "python",
   "name": "python3"
  },
  "language_info": {
   "codemirror_mode": {
    "name": "ipython",
    "version": 3
   },
   "file_extension": ".py",
   "mimetype": "text/x-python",
   "name": "python",
   "nbconvert_exporter": "python",
   "pygments_lexer": "ipython3",
   "version": "3.11.4"
  }
 },
 "nbformat": 4,
 "nbformat_minor": 4
}
